{
 "cells": [
  {
   "cell_type": "code",
   "execution_count": 119,
   "id": "74b6bfbc",
   "metadata": {},
   "outputs": [],
   "source": [
    "import numpy as np\n",
    "import pandas as pd \n",
    "from sklearn.model_selection import train_test_split\n",
    "from sklearn.linear_model import LinearRegression\n",
    "from sklearn import datasets, linear_model\n",
    "import matplotlib.pyplot as plt\n",
    "from sklearn.metrics import mean_squared_error\n",
    "from sklearn.metrics import r2_score"
   ]
  },
  {
   "cell_type": "code",
   "execution_count": 120,
   "id": "1e1e12b7",
   "metadata": {},
   "outputs": [],
   "source": [
    "class NormalLinearRegression:\n",
    "    def __init__(self) -> None:\n",
    "        self.X = None\n",
    "        self.Y = None\n",
    "        self.theta = None\n",
    "\n",
    "    def fit(self,x,y):\n",
    "        \"\"\"\n",
    "        Returns the optimal weights.\n",
    "        parameters: \n",
    "            x : input/feature matrix\n",
    "            y : target matrix\n",
    "\n",
    "        Returns:\n",
    "            theta: Array of the optimal value of weights.\n",
    "\n",
    "        \"\"\"\n",
    "        self.X = x\n",
    "\n",
    "        if self.X.ndim == 1: # adding extra dimension, if X is a 1-D array\n",
    "            self.X = self.X.reshape(-1,1)\n",
    "\n",
    "        # adding extra column of 1s for the bias term\n",
    "        self.X = np.concatenate([np.ones((self.X.shape[0], 1)), self.X], axis=1)\n",
    "\n",
    "        self.Y = y\n",
    "        self.theta = np.zeros((self.X.shape[1],1))\n",
    "\n",
    "        self.theta = self.calculate_theta()\n",
    "        self.theta = self.theta.reshape(-1,1)\n",
    "\n",
    "        return self.theta\n",
    "\n",
    "    def predict(self, x):\n",
    "        \"\"\"\n",
    "        Returns the predicted target.\n",
    "        parameters: \n",
    "            x : test input/feature matrix\n",
    "\n",
    "        Returns:\n",
    "            y:  predicted target value.\n",
    "\n",
    "        \"\"\"\n",
    "        x = np.array(x) # converting list to numpy array\n",
    "        if x.ndim == 1:\n",
    "            x = x.reshape(1,-1) # adding extra dimension in front\n",
    "        x = np.concatenate([np.ones((x.shape[0],1)), x], axis=1)\n",
    "        return np.dot(x,self.theta)\n",
    "\n",
    "    def calculate_theta(self):\n",
    "        \"\"\"\n",
    "        Calculate the optimal weights.\n",
    "        parameters: None\n",
    "        Returns:\n",
    "            theta_temp: Array containing the calculated value of weights\n",
    "\n",
    "        \"\"\"\n",
    "        y_projection = np.dot(self.X.T, self.Y)\n",
    "        cov = np.dot(self.X.T, self.X)\n",
    "        cov_inv = np.linalg.pinv(cov)\n",
    "        theta_temp = np.dot(cov_inv, y_projection)\n",
    "\n",
    "        return theta_temp"
   ]
  },
  {
   "cell_type": "code",
   "execution_count": 121,
   "id": "6e2cd3df",
   "metadata": {},
   "outputs": [],
   "source": [
    "x, y = datasets.load_diabetes(return_X_y=True)\n",
    "\n",
    "X_train, X_test, Y_train, Y_test = train_test_split(\n",
    "x, y, test_size = 1/3, random_state = 0 )"
   ]
  },
  {
   "cell_type": "code",
   "execution_count": 122,
   "id": "9eaa1e77",
   "metadata": {},
   "outputs": [
    {
     "data": {
      "text/plain": [
       "array([[ 152.13348416],\n",
       "       [ -10.01219782],\n",
       "       [-239.81908937],\n",
       "       [ 519.83978679],\n",
       "       [ 324.39042769],\n",
       "       [-792.18416163],\n",
       "       [ 476.74583782],\n",
       "       [ 101.04457032],\n",
       "       [ 177.06417623],\n",
       "       [ 751.27932109],\n",
       "       [  67.62538639]])"
      ]
     },
     "execution_count": 122,
     "metadata": {},
     "output_type": "execute_result"
    }
   ],
   "source": [
    "myLinearRegression= NormalLinearRegression()\n",
    "myLinearRegression.fit(X, Y)"
   ]
  },
  {
   "cell_type": "code",
   "execution_count": 123,
   "id": "afc83101",
   "metadata": {},
   "outputs": [],
   "source": [
    "p = myLinearRegression.predict(X_test)"
   ]
  },
  {
   "cell_type": "code",
   "execution_count": 124,
   "id": "7199d214",
   "metadata": {},
   "outputs": [
    {
     "data": {
      "text/plain": [
       "0.4285809461744471"
      ]
     },
     "execution_count": 124,
     "metadata": {},
     "output_type": "execute_result"
    }
   ],
   "source": [
    "r2_score(Y_test ,p)"
   ]
  },
  {
   "cell_type": "code",
   "execution_count": 125,
   "id": "805d2c84",
   "metadata": {},
   "outputs": [],
   "source": [
    "x, y = datasets.load_diabetes(return_X_y=True)\n",
    "\n",
    "X_train, X_test, Y_train, Y_test = train_test_split(\n",
    "x, y, test_size = 1/3, random_state = 0 )"
   ]
  },
  {
   "cell_type": "code",
   "execution_count": 126,
   "id": "bdbe371a",
   "metadata": {},
   "outputs": [],
   "source": [
    "skModel = LinearRegression()\n",
    "skModel.fit(X_train,Y_train)\n",
    "psk = skModel.predict(X_test)"
   ]
  },
  {
   "cell_type": "code",
   "execution_count": 127,
   "id": "896e4ccd",
   "metadata": {},
   "outputs": [
    {
     "data": {
      "text/plain": [
       "0.40409354863392766"
      ]
     },
     "execution_count": 127,
     "metadata": {},
     "output_type": "execute_result"
    }
   ],
   "source": [
    "r2_score(Y_test ,psk)"
   ]
  }
 ],
 "metadata": {
  "kernelspec": {
   "display_name": "Python 3 (ipykernel)",
   "language": "python",
   "name": "python3"
  },
  "language_info": {
   "codemirror_mode": {
    "name": "ipython",
    "version": 3
   },
   "file_extension": ".py",
   "mimetype": "text/x-python",
   "name": "python",
   "nbconvert_exporter": "python",
   "pygments_lexer": "ipython3",
   "version": "3.9.12"
  }
 },
 "nbformat": 4,
 "nbformat_minor": 5
}
